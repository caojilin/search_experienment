{
 "cells": [
  {
   "cell_type": "code",
   "execution_count": 1,
   "metadata": {},
   "outputs": [],
   "source": [
    "import cohere  \n",
    "from openai import OpenAI\n",
    "import json\n",
    "import requests\n",
    "from bs4 import BeautifulSoup\n",
    "from selenium import webdriver\n",
    "from selenium.webdriver.common.by import By\n",
    "from selenium.webdriver.chrome.service import Service\n",
    "from webdriver_manager.chrome import ChromeDriverManager\n",
    "from urllib.parse import urlencode\n",
    "import re\n",
    "import pandas as pd\n"
   ]
  },
  {
   "cell_type": "code",
   "execution_count": 69,
   "metadata": {},
   "outputs": [],
   "source": [
    "client = OpenAI(\n",
    "    api_key=\"sk-dP3OLsFmsPb2kgfFaeYO5im3fx9KZkLtVBsMwRqMwvzsdQtI\",  base_url=\"https://api.chatanywhere.tech\"# This is the default and can be omitted\n",
    ")"
   ]
  },
  {
   "cell_type": "code",
   "execution_count": 62,
   "metadata": {},
   "outputs": [],
   "source": [
    "query = \"\"\"In the TV show The Office, who said \"out of your hands\" and in which episode and season\"\"\"\n",
    "query = \"\"\"In the TV show The Office, who said \"no more sex\" and in which episode and season\"\"\"\n",
    "query = \"\"\"In the TV show The Office, who said \"who do you think you are\" and in which episode and season\"\"\""
   ]
  },
  {
   "cell_type": "code",
   "execution_count": 63,
   "metadata": {},
   "outputs": [
    {
     "data": {
      "text/plain": [
       "'q=In+the+TV+show+The+Office%2C+who+said+%22who+do+you+think+you+are%22+and+in+which+episode+and+season'"
      ]
     },
     "execution_count": 63,
     "metadata": {},
     "output_type": "execute_result"
    }
   ],
   "source": [
    "encoded_query = urlencode({\"q\": query})\n",
    "encoded_query"
   ]
  },
  {
   "cell_type": "code",
   "execution_count": 64,
   "metadata": {},
   "outputs": [],
   "source": [
    "#maybe free to use google query, but the content is really ill-formated.\n",
    "url =f\"https://www.google.com/search?{encoded_query}&gs_lcrp=EgZjaHJvbWUyBggAEEUYOTIHCAEQIRigATIHCAIQIRigATIHCAMQIRigATIHCAQQIRigATIHCAUQIRiPAjIHCAYQIRiPAtIBCDIxODlqMGo3qAIAsAIA&sourceid=chrome&ie=UTF-8&gl=us&hl=en\""
   ]
  },
  {
   "cell_type": "code",
   "execution_count": 65,
   "metadata": {},
   "outputs": [],
   "source": [
    "try:\n",
    "    # Fetch the webpage\n",
    "    response = requests.get(url)\n",
    "    response.raise_for_status()  # Raise an HTTPError for bad responses (4xx and 5xx)\n",
    "    \n",
    "    # Parse the content with BeautifulSoup\n",
    "    soup = BeautifulSoup(response.text, 'html.parser')\n",
    "    \n",
    "    # Extract and return the text content\n",
    "    content = soup.get_text(separator=\"\\n\").strip()\n",
    "except requests.exceptions.RequestException as e:\n",
    "    print(f\"An error occurred: {e}\")\n"
   ]
  },
  {
   "cell_type": "code",
   "execution_count": 66,
   "metadata": {},
   "outputs": [],
   "source": [
    "# Function to clean up the data\n",
    "def clean_data(text):\n",
    "    # Remove newline characters and excess spaces\n",
    "    text = re.sub(r'\\s+', ' ', text)  # Replaces multiple spaces and newlines with one space\n",
    "    # Remove unwanted characters like \\n, \\t, or other non-printable characters\n",
    "    text = re.sub(r'[\\n\\t\\r]+', ' ', text)\n",
    "    # Additional cleaning if necessary (e.g., remove '×' and other unwanted symbols)\n",
    "    text = re.sub(r'[^\\x00-\\x7F]+', ' ', text)  # Removes non-ASCII characters\n",
    "    return text.strip()\n",
    "\n",
    "content = clean_data(content)"
   ]
  },
  {
   "cell_type": "code",
   "execution_count": 67,
   "metadata": {},
   "outputs": [
    {
     "data": {
      "text/plain": [
       "'In the TV show The Office, who said \"who do you think you are\" and in which episode and season - Google Search G o o g l e   Please click here if you are not redirected within a few seconds. All Videos Images Books Maps News Shopping Search tools Any time Any time Past hour Past 24 hours Past week Past month Past year All results All results Verbatim Who do you think you are? From Season 4 Episode 14 : Goodbye Toby - It\\'s Toby\\'s (Paul Lieberstein) goodbye party at Dunder Mifflin and Michael (Steve Carell) demands a huge celebration that matches the joy in his heart. Jan 18, 2022 i\\'ll kill you - The Office US - YouTube www.youtube.com   watch About Featured Snippets Steve Carell as Michael Scott - Goodbye, Toby (2008) - IMDb www.imdb.com   title   characters ... The Office\" Goodbye, Toby (TV Episode 2008) Steve Carell as Michael Scott. ... Michael Scott : Umm, who do you think you are? Toby Flenderson : [long pause] ... Paul Lieberstein as Toby Flenderson - IMDb www.imdb.com   title   characters Michael Scott : Umm, who do you think you are? Toby Flenderson : [long pause] I\\'m Toby. Michael Scott : Yeah. Correct. Umm.. One of my favorite scenes in the entire series : r/DunderMifflin - Reddit www.reddit.com   DunderMifflin   comments   one_of_my_favorite_scen... Nov 12, 2016   Who do you think you are? ...I\\'m Toby. Upvote 2. Downvote Reply reply ... I\\'ve been rewatching the series and I\\'m at the end of season 8. I ... As someone who sleeps with The Office on, I wish the internet would ... I will never forget how David made Ryan cry in a deleted scene what was the best line used against toby by any character? for me ... Is this the angriest Michael has ever been? : r/DunderMifflin - Reddit More results from www.reddit.com Goodbye Toby - Season 04 Episode 14 - OfficeQuotes.net www.officequotes.net   ... Who do you think you are? Toby: I\\'m Toby. Michael: Yeah. Correct. Um... What gives-what-what gives you the right? Holly: Um, I-I brought the binder. Do you ... People also ask Why did Toby leave The Office? What did Steve Carell think of The Office? What episode is Toby\\'s exit interview? Who was supposed to be on The Office? Weight Loss | Dunderpedia: The Office Wiki | Fandom theoffice.fandom.com   wiki   Weight_Loss \"Weight Loss\" is the first/second episode of the fifth season of The Office and 73rd/74th episode overall. ... I can\\'t believe- who do you think you are? You ... Who do you think you are 2024 - Page 2 - Digital Spy Forum forums.digitalspy.com   discussion   who-do-you-think-you-are-2024 Jun 11, 2024   Click here to check out Digital Spy\\'s TV section for the latest news, previews and reviews of your favourite shows. Who do you think you are ... The Office, \"Goodbye, Toby\": My name is Captain Bruisin sepinwall.blogspot.com   2008/05   office-goodbye-toby-my-name-is-capt... May 15, 2008   ... Who do you think you are?\" and \"What gives you the right?\" in a way that doesn\\'t make him sound like a hostile, vengeance-seeking ass. That ... Am I the only one who thinks Rachel Green is a bitch in the TV show ... www.quora.com   Am-I-the-only-one-who-thinks-Rachel-Green-is-a-bitch... Mar 20, 2015   ... say to Ross that \\'Who do you think you are?\\' You are a real bitch ... Season 1 episode 9. In this episode, Rachel\\'s friends pay for her ... WHO DO YOU THINK YOU ARE? (Episode 7) - RootsChat www.rootschat.com   forum Nov 27, 2004   Re: WHO DO YOU THINK YOU ARE? (Episode 7) ... Next week it is Lesley Garrett - she is a heap of uninhibited fun and very down to earth. Do not ... People also search for Goodbye Toby episode the office goodbye, toby part 1 Who do you think you are what gives you the right What gives you the right The Office michael scott i\\'ll kill you gif The Office Goodbye Toby Part 2 Michael Scott what gives you the right gif Goodbye Toby The Office lyrics Next > Unknown Can\\'t determine location - Learn more Sign in Settings Privacy Terms Dark theme: Off'"
      ]
     },
     "execution_count": 67,
     "metadata": {},
     "output_type": "execute_result"
    }
   ],
   "source": [
    "content"
   ]
  },
  {
   "cell_type": "code",
   "execution_count": 71,
   "metadata": {},
   "outputs": [
    {
     "data": {
      "text/plain": [
       "'In the TV show The Office, the line \"Who do you think you are?\" is said by Michael Scott, played by Steve Carell, in Season 4, Episode 14, titled \"Goodbye Toby.\" The original line is part of a conversation where Michael Scott asks Toby Flenderson, played by Paul Lieberstein, \"Umm, who do you think you are?\" and Toby responds after a long pause, \"I\\'m Toby.\" Michael then confirms, \"Yeah. Correct. Umm...\"'"
      ]
     },
     "execution_count": 71,
     "metadata": {},
     "output_type": "execute_result"
    }
   ],
   "source": [
    "chat_completion = client.chat.completions.create(\n",
    "    messages=[\n",
    "        {\n",
    "            \"role\": \"system\",\n",
    "            \"content\": \"don't use your own knowledge. use the data I gave you\",\n",
    "        },\n",
    "        {\n",
    "            \"role\": \"user\",\n",
    "            \"content\": f\"\"\"based on {content}, answer the question {query}, \n",
    "             show the original line,\n",
    "             list all answers\"\"\",\n",
    "        }\n",
    "    ],\n",
    "    model=\"gpt-4o\",\n",
    ")\n",
    "response1 = chat_completion.choices[0].message.content\n",
    "response1"
   ]
  },
  {
   "cell_type": "code",
   "execution_count": 88,
   "metadata": {},
   "outputs": [],
   "source": [
    "example_json = {\"season\":3, \"episode\":2,\"character\":\"Andy\", \"text\": \"\"}\n",
    "names = ['Michael', 'Jim', 'Pam', 'Dwight', 'Jan', 'Michel', 'Todd Packer',\n",
    "       'Phyllis', 'Stanley', 'Oscar', 'Angela', 'Kevin', 'Ryan', 'Man',\n",
    "       'Roy', 'Mr. Brown', 'Toby', 'Kelly', 'Meredith', 'Travel Agent',\n",
    "       'Man on Phone', 'Everybody', 'Lonny', 'Darryl']"
   ]
  },
  {
   "cell_type": "code",
   "execution_count": 89,
   "metadata": {},
   "outputs": [
    {
     "name": "stdout",
     "output_type": "stream",
     "text": [
      "{'season': 4, 'episode': 14, 'character': 'Michael', 'text': 'Umm, who do you think you are?'}\n"
     ]
    }
   ],
   "source": [
    "chat_completion = client.chat.completions.create(\n",
    "    messages=[\n",
    "        {\n",
    "            \"role\": \"system\",\n",
    "            \"content\": \"\"\"don't use your own knowledge, rely on my data\"\"\",\n",
    "        },\n",
    "        {\n",
    "            \"role\": \"user\",\n",
    "            \"content\": f\"\"\"based on {response1},\n",
    "            convert the answer into json object,\n",
    "            just return the json, don't add json on the front.\n",
    "            the name should be from {names}\n",
    "            for example {example_json}\"\"\",\n",
    "        }\n",
    "    ],\n",
    "    model=\"gpt-4o\",\n",
    ")\n",
    "response2 = chat_completion.choices[0].message.content\n",
    "response2 = json.loads(response2)\n",
    "print(response2)"
   ]
  },
  {
   "cell_type": "code",
   "execution_count": 77,
   "metadata": {},
   "outputs": [
    {
     "name": "stdout",
     "output_type": "stream",
     "text": [
      "Index(['index', 'season', 'episode', 'episode_name', 'director', 'writer',\n",
      "       'character', 'text', 'text_w_direction'],\n",
      "      dtype='object')\n"
     ]
    }
   ],
   "source": [
    "df = pd.read_csv(\"../backend/schrute.csv\", header=0)\n",
    "df = df.drop(\"Unnamed: 0\", axis=1)\n",
    "print(df.columns)\n",
    "\n",
    "df['lower'] = df['text'].str.lower()\n",
    "df['lower'] = df['lower'].str.strip()\n",
    "# Replace empty strings with NaN and then drop those rows\n",
    "df.replace(pd.NA, \"\", inplace=True)"
   ]
  },
  {
   "cell_type": "code",
   "execution_count": 93,
   "metadata": {},
   "outputs": [],
   "source": [
    "candidate_text= df[(df['season'] == response2['season']) & (df['episode'] ==\n",
    "                                            response2['episode']) & (df['character'] == response2['character'])]['text'].tolist()"
   ]
  },
  {
   "cell_type": "code",
   "execution_count": 97,
   "metadata": {},
   "outputs": [
    {
     "name": "stdout",
     "output_type": "stream",
     "text": [
      "To find the text most relatable to the query \"Umm, who do you think you are?,\" we should look for statements that touch on identity, self-perception, or challenge. Here are the top three related texts:\n",
      "\n",
      "1. \"What is wrong with these people? I would do anything for them and they're just hanging me out to dry.\"\n",
      "2. \"Dating shouldn't be hard for somebody like me, but it is and you know why? Because nobody here is willing to help me. Nothing would ever get done in this office without a formal request, would it? Well, fine. Here goes.\"\n",
      "3. \"Now you ruined it.\" \n",
      "\n",
      "These texts involve a sense of personal identity being questioned or challenged.\n"
     ]
    }
   ],
   "source": [
    "chat_completion = client.chat.completions.create(\n",
    "    messages=[\n",
    "        {\n",
    "            \"role\": \"system\",\n",
    "            \"content\": \"\"\"don't use your own knowledge, rely on my data\"\"\",\n",
    "        },\n",
    "        {\n",
    "            \"role\": \"user\",\n",
    "            \"content\": f\"\"\"the query is {response2['text']},\n",
    "             find the most relatable text from this array of text {candidate_text},\n",
    "             then return top 3 most related text\n",
    "            \"\"\",\n",
    "        }\n",
    "    ],\n",
    "    model=\"gpt-4o\",\n",
    ")\n",
    "response3 = chat_completion.choices[0].message.content\n",
    "# response3 = json.loads(response2)\n",
    "print(response3)"
   ]
  },
  {
   "cell_type": "code",
   "execution_count": 98,
   "metadata": {},
   "outputs": [],
   "source": [
    "# this is a failure"
   ]
  },
  {
   "cell_type": "markdown",
   "metadata": {},
   "source": [
    "# section 2"
   ]
  },
  {
   "cell_type": "code",
   "execution_count": 123,
   "metadata": {},
   "outputs": [],
   "source": [
    "def get_google_search(url):\n",
    "    try:\n",
    "        # Fetch the webpage\n",
    "        response = requests.get(url)\n",
    "        response.raise_for_status()  # Raise an HTTPError for bad responses (4xx and 5xx)\n",
    "\n",
    "        # Parse the content with BeautifulSoup\n",
    "        soup = BeautifulSoup(response.text, 'html.parser')\n",
    "\n",
    "        # Extract and return the text content\n",
    "        content = soup.get_text(separator=\"\\n\").strip()\n",
    "    except requests.exceptions.RequestException as e:\n",
    "        print(f\"An error occurred: {e}\")\n",
    "    return content\n",
    "\n",
    "\n",
    "def clean_data(text):\n",
    "    # Remove newline characters and excess spaces\n",
    "    # Replaces multiple spaces and newlines with one space\n",
    "    text = re.sub(r'\\s+', ' ', text)\n",
    "    # Remove unwanted characters like \\n, \\t, or other non-printable characters\n",
    "    text = re.sub(r'[\\n\\t\\r]+', ' ', text)\n",
    "    # Additional cleaning if necessary (e.g., remove '×' and other unwanted symbols)\n",
    "    text = re.sub(r'[^\\x00-\\x7F]+', ' ', text)  # Removes non-ASCII characters\n",
    "    return text.strip()\n",
    "\n",
    "def call_openai(client, messages, model=\"gpt-4o\"):\n",
    "    chat_completion = client.chat.completions.create(\n",
    "        messages=messages,\n",
    "        model=model,\n",
    "    )\n",
    "    return chat_completion.choices[0].message.content\n",
    "\n",
    "\n",
    "def is_valid_json_with_fields(string):\n",
    "    try:\n",
    "        # Try parsing the string to a Python dictionary\n",
    "        data = json.loads(string)\n",
    "\n",
    "        # Check if the required fields exist and have the correct types\n",
    "        if isinstance(data, dict):\n",
    "            if \"season\" in data and isinstance(data[\"season\"], int) and \\\n",
    "               \"episode\" in data and isinstance(data[\"episode\"], int) and \\\n",
    "               \"character\" in data and isinstance(data[\"character\"], str) and \\\n",
    "               \"text\" in data and isinstance(data[\"text\"], str):\n",
    "                return True\n",
    "            else:\n",
    "                return False\n",
    "        else:\n",
    "            return False\n",
    "    except json.JSONDecodeError:\n",
    "        return False"
   ]
  },
  {
   "cell_type": "code",
   "execution_count": 130,
   "metadata": {},
   "outputs": [],
   "source": [
    "def get_res_from_openai(query, example_json, retry=3):\n",
    "    client = OpenAI(\n",
    "        # This is the default and can be omitted\n",
    "        api_key=\"sk-dP3OLsFmsPb2kgfFaeYO5im3fx9KZkLtVBsMwRqMwvzsdQtI\",  base_url=\"https://api.chatanywhere.tech\"\n",
    "    )\n",
    "    \n",
    "    encoded_query = urlencode({\"q\": query})\n",
    "    #maybe free to use google query, but the content is really ill-formated.\n",
    "    url =f\"https://www.google.com/search?{encoded_query}&gs_lcrp=EgZjaHJvbWUyBggAEEUYOTIHCAEQIRigATIHCAIQIRigATIHCAMQIRigATIHCAQQIRigATIHCAUQIRiPAjIHCAYQIRiPAtIBCDIxODlqMGo3qAIAsAIA&sourceid=chrome&ie=UTF-8&gl=us&hl=en\"\n",
    "    content = get_google_search(url)\n",
    "    content = clean_data(content)\n",
    "    \n",
    "    prompt1 = [\n",
    "        {\n",
    "            \"role\": \"system\",\n",
    "            \"content\": \"don't use your own knowledge. use the data I gave you\",\n",
    "        },\n",
    "        {\n",
    "            \"role\": \"user\",\n",
    "            \"content\": f\"\"\"based on {content}, answer the question {query}, list all answers\"\"\",\n",
    "        }\n",
    "    ]\n",
    "    \n",
    "    res1 = call_openai(client, prompt1, \"gpt-4o-mini\")\n",
    "    \n",
    "    prompt2 = [\n",
    "        {\n",
    "            \"role\": \"system\",\n",
    "            \"content\": \"\"\"don't use your own knowledge, rely on my data\"\"\",\n",
    "        },\n",
    "        {\n",
    "            \"role\": \"user\",\n",
    "            \"content\": f\"\"\"based on {res1},\n",
    "            convert the answer into json object, just return the json, don't add json on the front.\n",
    "            for example {example_json}\"\"\",\n",
    "        }\n",
    "    ]\n",
    "    \n",
    "    res2 = call_openai(client, prompt2)\n",
    "    # for i in range(retry):\n",
    "    #     res2 = call_openai(client, prompt2)\n",
    "    #     if is_valid_json_with_fields(res2):\n",
    "    return json.loads(res2), content, res1, res2\n",
    "    "
   ]
  },
  {
   "cell_type": "code",
   "execution_count": 131,
   "metadata": {},
   "outputs": [],
   "source": [
    "query = \"\"\"In the TV show The Office, who said \"out of your hands\" and in which episode and season\"\"\"\n",
    "# query = \"\"\"In the TV show The Office, who said \"no more sex\" and in which episode and season\"\"\"\n",
    "# query = \"\"\"In the TV show The Office, who said \"who do you think I am\" and in which episode and season\"\"\"\n",
    "\n",
    "example_json = {\"season\": 3, \"episode\": 2, \"character\": \"Andy\", \"text\": \"\"}"
   ]
  },
  {
   "cell_type": "code",
   "execution_count": 132,
   "metadata": {},
   "outputs": [
    {
     "name": "stdout",
     "output_type": "stream",
     "text": [
      "{'season': 1, 'episode': 1, 'character': 'Stanley', 'text': 'It could be out of your hands, Michael.'}\n"
     ]
    }
   ],
   "source": [
    "res, content, response1, response2 = get_res_from_openai(\n",
    "    query=query, example_json=example_json)\n",
    "print(res)"
   ]
  },
  {
   "cell_type": "code",
   "execution_count": 133,
   "metadata": {},
   "outputs": [
    {
     "data": {
      "text/plain": [
       "'In the TV show The Office, who said \"out of your hands\" and in which episode and season - Google Search G o o g l e   Please click here if you are not redirected within a few seconds. All Images Videos Books Maps News Shopping Search tools Any time Any time Past hour Past 24 hours Past week Past month Past year All results All results Verbatim The Office (USA)   Season 1 Episode 1: \"Pilot\" | Genius genius.com   The-office-usa-season-1-episode-1-pilot-annotated OSCAR: Yeah, but Michael what if they downsize here? MICHAEL: Not gonna happen. STANLEY: It could be out of your hands, Michael MICHAEL: It won\\'t be out of ... People also ask What happens in season 2 episode 12 of The Office? What happens in season 3 episode 23 of The Office? What happens in season 5 episode 27 of The Office? What happens in season 3 episode 14 of The Office? Pilot - The Office TV Show (Season 1) the-office-tv-show.com   episodes   season1   pilot It could be out of your hands Michael. It won\\'t be out of my hands Stanley, OK. I promise you that. Photo of Michael Scott. Photo of Stanley Hudson. Can you ... The Office: Customer Survey - OfficeTally www.officetally.com   the-office-customer-survey Nov 6, 2008   Dwight: This wedding is officially out of your hands. Andy: You are ... I got to say, this was the best episode of fifth season so far. Transcript - Ep 55 - Revisited - Season 1 - Office Ladies officeladies.com   transcript-ep-55-revisited-season-1 JENNA FISCHER [00:22:19] Warren and Jorge wrote in and said, \"In this episode we learned that dairy makes Meredith sick. ... So sometimes it\\'s out of your hands. The Office S1E1 | PDF - Scribd www.scribd.com   document   The-Office-S1E1 - It\\'ll be out of your hands. - It won\\'t be, Stanley. I promise you that. - Can you promise that? - On his mother\\'s grave. - What? - Well, yes, it is a ... Michael, in an effort to prove his intelligence, takes an IQ test. He ... www.reddit.com   RedditWritesTheOffice   comments   ggstlq   michael_... May 10, 2020   MICHAEL: N na sh! This is out of your hands. Just I think we can all think of times when we\\'ve been unfair to Kevin. Like when he ... The Office original casting video - 2003 | By I am Dwight K Schrute www.facebook.com   ...   I am Dwight K Schrute   Videos Feb 4, 2019   No photo description available. Dundie Awards. TV show ... It could be out of your hands ... Duration: 5:46 Posted: Feb 4, 2019 Colin Cowherd Podcast - Ant Makes It Look Too Easy, Is Tatum A #1 ... www.iheart.com   1-the-herd-with-colin-cowherd-27332740   episode   c... May 12, 2024   and roll, and he said, Hey, Steph Curry, we\\'re taking the ball out of your hands. We\\'re gonna lead the (40:31): league in passes. We\\'re ... The Office Cast AUDITION Tapes #tvshow #movie #foryou | TikTok www.tiktok.com   Did You Catch This? (@didyoucatchthis) | TikTok Dec 21, 2023   It could be out of your hands. Michael, uh, was there anything that ... Series episode \"The Man ... Duration: 3:58 Posted: Dec 21, 2023 Office Season 1 | PDF - Scribd www.scribd.com   document   Office-Season-1 Rating 5.0 (1) Stanley: It could be out of your hands Michael. Michael: It won\\'t be out of my hands Stanley, OK. I promise you that. Stanley: Can you promise that? Dwight ... People also search for The Office season 1 script PDF The Office script Season 1 The Office episode scripts The office season 1 episode 1 script The Office script season 2 The Office script dinner party PDF The Office script season 3 The office script pdf Next > Unknown Can\\'t determine location - Learn more Sign in Settings Privacy Terms Dark theme: Off'"
      ]
     },
     "execution_count": 133,
     "metadata": {},
     "output_type": "execute_result"
    }
   ],
   "source": [
    "content"
   ]
  },
  {
   "cell_type": "code",
   "execution_count": 28,
   "metadata": {},
   "outputs": [
    {
     "name": "stdout",
     "output_type": "stream",
     "text": [
      "Index(['index', 'season', 'episode', 'episode_name', 'director', 'writer',\n",
      "       'character', 'text', 'text_w_direction'],\n",
      "      dtype='object')\n"
     ]
    }
   ],
   "source": [
    "df = pd.read_csv(\"../backend/schrute.csv\", header=0)\n",
    "df = df.drop(\"Unnamed: 0\", axis=1)\n",
    "print(df.columns)\n",
    "\n",
    "df['lower'] = df['text'].str.lower()\n",
    "df['lower'] = df['lower'].str.strip()\n",
    "# Replace empty strings with NaN and then drop those rows\n",
    "df.replace(pd.NA, \"\", inplace=True)"
   ]
  },
  {
   "cell_type": "code",
   "execution_count": 87,
   "metadata": {},
   "outputs": [],
   "source": [
    "# df.character.unique()"
   ]
  },
  {
   "cell_type": "code",
   "execution_count": 41,
   "metadata": {},
   "outputs": [
    {
     "data": {
      "text/plain": [
       "{'season': 3,\n",
       " 'episode': 19,\n",
       " 'character': 'Michael Scott',\n",
       " 'text': 'no more sex.'}"
      ]
     },
     "execution_count": 41,
     "metadata": {},
     "output_type": "execute_result"
    }
   ],
   "source": [
    "res"
   ]
  },
  {
   "cell_type": "code",
   "execution_count": 116,
   "metadata": {},
   "outputs": [],
   "source": [
    "# df[(df['season'] == res['season']) & (df['episode'] ==\n",
    "#                                       res['episode']) & (df['character'] == \"Michael\")]"
   ]
  }
 ],
 "metadata": {
  "kernelspec": {
   "display_name": "Python 3",
   "language": "python",
   "name": "python3"
  },
  "language_info": {
   "codemirror_mode": {
    "name": "ipython",
    "version": 3
   },
   "file_extension": ".py",
   "mimetype": "text/x-python",
   "name": "python",
   "nbconvert_exporter": "python",
   "pygments_lexer": "ipython3",
   "version": "3.12.7"
  }
 },
 "nbformat": 4,
 "nbformat_minor": 2
}
