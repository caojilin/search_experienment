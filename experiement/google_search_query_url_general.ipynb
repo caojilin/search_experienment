{
 "cells": [
  {
   "cell_type": "code",
   "execution_count": 1,
   "metadata": {},
   "outputs": [],
   "source": [
    "import cohere  \n",
    "from openai import OpenAI\n",
    "import json\n",
    "import requests\n",
    "from bs4 import BeautifulSoup\n",
    "from selenium import webdriver\n",
    "from selenium.webdriver.common.by import By\n",
    "from selenium.webdriver.chrome.service import Service\n",
    "from webdriver_manager.chrome import ChromeDriverManager\n",
    "from urllib.parse import urlencode\n",
    "import re\n",
    "import pandas as pd\n"
   ]
  },
  {
   "cell_type": "code",
   "execution_count": 2,
   "metadata": {},
   "outputs": [],
   "source": [
    "client = OpenAI(\n",
    "    api_key=\"sk-dP3OLsFmsPb2kgfFaeYO5im3fx9KZkLtVBsMwRqMwvzsdQtI\",  base_url=\"https://api.chatanywhere.tech\"# This is the default and can be omitted\n",
    ")"
   ]
  },
  {
   "cell_type": "code",
   "execution_count": 79,
   "metadata": {},
   "outputs": [],
   "source": [
    "query = \"\"\"lakers vs nuggets 2023 box score playoff game 1\"\"\""
   ]
  },
  {
   "cell_type": "code",
   "execution_count": 26,
   "metadata": {},
   "outputs": [
    {
     "data": {
      "text/plain": [
       "'q=lakers+vs+nuggets+2023+box+score+playoff+game+1'"
      ]
     },
     "execution_count": 26,
     "metadata": {},
     "output_type": "execute_result"
    }
   ],
   "source": [
    "encoded_query = urlencode({\"q\": query})\n",
    "encoded_query"
   ]
  },
  {
   "cell_type": "code",
   "execution_count": 27,
   "metadata": {},
   "outputs": [],
   "source": [
    "#maybe free to use google query, but the content is really ill-formated.\n",
    "url =f\"https://www.google.com/search?{encoded_query}&gs_lcrp=EgZjaHJvbWUyBggAEEUYOTIHCAEQIRigATIHCAIQIRigATIHCAMQIRigATIHCAQQIRigATIHCAUQIRiPAjIHCAYQIRiPAtIBCDIxODlqMGo3qAIAsAIA&sourceid=chrome&ie=UTF-8&gl=us&hl=en\""
   ]
  },
  {
   "cell_type": "code",
   "execution_count": 61,
   "metadata": {},
   "outputs": [],
   "source": [
    "# Function to clean up the data\n",
    "def clean_data(text):\n",
    "    # Remove newline characters and excess spaces\n",
    "    # Replaces multiple spaces and newlines with one space\n",
    "    text = re.sub(r'\\s+', ' ', text)\n",
    "    # Remove unwanted characters like \\n, \\t, or other non-printable characters\n",
    "    text = re.sub(r'[\\n\\t\\r]+', ' ', text)\n",
    "    # Additional cleaning if necessary (e.g., remove '×' and other unwanted symbols)\n",
    "    text = re.sub(r'[^\\x00-\\x7F]+', ' ', text)  # Removes non-ASCII characters\n",
    "    return text.strip()\n",
    "\n",
    "\n",
    "\n",
    "def get_soup(url):\n",
    "    try:\n",
    "        # Fetch the webpage\n",
    "        response = requests.get(url)\n",
    "        response.raise_for_status()  # Raise an HTTPError for bad responses (4xx and 5xx)\n",
    "        \n",
    "        # Parse the content with BeautifulSoup\n",
    "        soup = BeautifulSoup(response.text, 'html.parser')\n",
    "        \n",
    "        # Extract and return the text content\n",
    "        content = soup.get_text(separator=\"\\n\").strip()\n",
    "        content = clean_data(content)\n",
    "        \n",
    "        return soup, content\n",
    "    except requests.exceptions.RequestException as e:\n",
    "        print(f\"An error occurred: {e}\")\n",
    "        return None, None"
   ]
  },
  {
   "cell_type": "code",
   "execution_count": 62,
   "metadata": {},
   "outputs": [],
   "source": [
    "soup, content = get_soup(url)"
   ]
  },
  {
   "cell_type": "code",
   "execution_count": 37,
   "metadata": {},
   "outputs": [],
   "source": [
    "links = [a.get(\"href\") for a in soup.find_all(\"a\") if a.get(\"href\")]"
   ]
  },
  {
   "cell_type": "code",
   "execution_count": 38,
   "metadata": {},
   "outputs": [
    {
     "data": {
      "text/plain": [
       "['/url?q=https://maps.google.com/maps%3Fq%3Dlakers%2Bvs%2Bnuggets%2B2023%2Bbox%2Bscore%2Bplayoff%2Bgame%2B1%26gs_lcrp%3DEgZjaHJvbWUyBggAEEUYOTIHCAEQIRigATIHCAIQIRigATIHCAMQIRigATIHCAQQIRigATIHCAUQIRiPAjIHCAYQIRiPAtIBCDIxODlqMGo3qAIAsAIA%26gl%3Dus%26hl%3Den%26um%3D1%26ie%3DUTF-8%26ved%3D1t:200713%26ictx%3D111&opi=89978449&sa=U&ved=0ahUKEwia0dCI0u2JAxWGbPUHHbgfJ1IQiaAMCAooBQ&usg=AOvVaw2glitLeovkQCM1RT8e1uMG',\n",
       " '/url?q=https://www.nba.com/game/lal-vs-den-0042200311/box-score&sa=U&ved=2ahUKEwia0dCI0u2JAxWGbPUHHbgfJ1IQFnoECA4QAg&usg=AOvVaw2XOG8dpMA6nH2yQyU-B0JA',\n",
       " '/url?q=https://www.nba.com/game/den-vs-lal-0042200313/box-score&sa=U&ved=2ahUKEwia0dCI0u2JAxWGbPUHHbgfJ1IQFnoECAcQAg&usg=AOvVaw3OpRxuOAL1cmI4-EAh2nQN',\n",
       " '/url?q=https://www.espn.com/nba/game/_/gameId/401547684/nuggets-lakers&sa=U&ved=2ahUKEwia0dCI0u2JAxWGbPUHHbgfJ1IQFnoECA0QAg&usg=AOvVaw3nRRX6LCxGjsuPN0ClFqz9',\n",
       " '/url?q=https://www.espn.com/nba/boxscore/_/gameId/401547683&sa=U&ved=2ahUKEwia0dCI0u2JAxWGbPUHHbgfJ1IQFnoECAwQAg&usg=AOvVaw2kjaFA92q2sRfagzR3JZnS',\n",
       " '/url?q=https://www.statmuse.com/nba/ask/box-score-of-lakers-vs-nuggets-playoffs&sa=U&ved=2ahUKEwia0dCI0u2JAxWGbPUHHbgfJ1IQFnoECAoQAg&usg=AOvVaw3reZacAyB907df14UFqPSI',\n",
       " '/url?q=https://www.basketball-reference.com/playoffs/2023-nba-western-conference-finals-lakers-vs-nuggets.html&sa=U&ved=2ahUKEwia0dCI0u2JAxWGbPUHHbgfJ1IQFnoECAgQAg&usg=AOvVaw3_yy8XvGhhWItEX7QOz3B0',\n",
       " '/url?q=https://www.reddit.com/r/nba/comments/13lefjy/game_thread_los_angeles_lakers_01_denver_nuggets/&sa=U&ved=2ahUKEwia0dCI0u2JAxWGbPUHHbgfJ1IQFnoECAYQAg&usg=AOvVaw3vXeP0E483b1smoqcjc6Qe',\n",
       " '/url?q=https://www.reddit.com/r/denvernuggets/comments/13jkrmv/game_thread_western_finals_game_1_nuggets_vs/&sa=U&ved=2ahUKEwia0dCI0u2JAxWGbPUHHbgfJ1IQFnoECAQQAg&usg=AOvVaw0RHEABWzoPG3l4Kqn_D9vY',\n",
       " '/url?q=https://www.basketball-reference.com/boxscores/202301090DEN.html&sa=U&ved=2ahUKEwia0dCI0u2JAxWGbPUHHbgfJ1IQFnoECAkQAg&usg=AOvVaw15EBqiMKDgfjdyoIaf8XAe',\n",
       " '/url?q=https://www.statmuse.com/nba/ask/lakers-vs-nuggets-game-4-western-conference-finals-2023-lakers-box-score&sa=U&ved=2ahUKEwia0dCI0u2JAxWGbPUHHbgfJ1IQFnoECA8QAg&usg=AOvVaw3ZLjN5AVwZJARRIZg7AtAz',\n",
       " '/url?q=https://support.google.com/websearch%3Fp%3Dws_settings_location%26hl%3Den&opi=89978449&sa=U&ved=0ahUKEwia0dCI0u2JAxWGbPUHHbgfJ1IQty4Icg&usg=AOvVaw0S4vC6oHxDN7tRlJawnuTV',\n",
       " '/url?q=https://accounts.google.com/ServiceLogin%3Fcontinue%3Dhttps://www.google.com/search%253Fq%253Dlakers%252Bvs%252Bnuggets%252B2023%252Bbox%252Bscore%252Bplayoff%252Bgame%252B1%2526gs_lcrp%253DEgZjaHJvbWUyBggAEEUYOTIHCAEQIRigATIHCAIQIRigATIHCAMQIRigATIHCAQQIRigATIHCAUQIRiPAjIHCAYQIRiPAtIBCDIxODlqMGo3qAIAsAIA%2526sourceid%253Dchrome%2526ie%253DUTF-8%2526gl%253Dus%2526hl%253Den%26hl%3Den&opi=89978449&sa=U&ved=0ahUKEwia0dCI0u2JAxWGbPUHHbgfJ1IQxs8CCHM&usg=AOvVaw0cBVnM2XYmmyLvmkapX3sO',\n",
       " 'https://www.google.com/preferences?hl=en&fg=1&sa=X&ved=0ahUKEwia0dCI0u2JAxWGbPUHHbgfJ1IQ5fUCCHQ',\n",
       " 'https://policies.google.com/privacy?hl=en&fg=1',\n",
       " 'https://policies.google.com/terms?hl=en&fg=1',\n",
       " '/setprefs?hl=en&prev=https://www.google.com/search?q%3Dlakers%2Bvs%2Bnuggets%2B2023%2Bbox%2Bscore%2Bplayoff%2Bgame%2B1%26gs_lcrp%3DEgZjaHJvbWUyBggAEEUYOTIHCAEQIRigATIHCAIQIRigATIHCAMQIRigATIHCAQQIRigATIHCAUQIRiPAjIHCAYQIRiPAtIBCDIxODlqMGo3qAIAsAIA%26sourceid%3Dchrome%26ie%3DUTF-8%26gl%3Dus%26hl%3Den%26pccc%3D1&sig=0_BLL67hNkkggcAfKPgWVtgUO0dzM%3D&cs=2&sa=X&ved=0ahUKEwia0dCI0u2JAxWGbPUHHbgfJ1IQjcAJCHU']"
      ]
     },
     "execution_count": 38,
     "metadata": {},
     "output_type": "execute_result"
    }
   ],
   "source": [
    "links = [link for link in links if \"https://\" in link]\n",
    "links"
   ]
  },
  {
   "cell_type": "code",
   "execution_count": 42,
   "metadata": {},
   "outputs": [],
   "source": [
    "def get_potential_urls(text, keyword=\"https://\"):\n",
    "    # Find the position of the keyword\n",
    "    start_index = text.find(keyword)\n",
    "    # Extract substring starting from the keyword\n",
    "    if start_index != -1:  # Check if the keyword exists in the string\n",
    "        result = text[start_index:]\n",
    "        return result\n",
    "    else:\n",
    "        print(f\"Keyword '{keyword}' not found in the text.\")"
   ]
  },
  {
   "cell_type": "code",
   "execution_count": 44,
   "metadata": {},
   "outputs": [
    {
     "data": {
      "text/plain": [
       "['https://maps.google.com/maps%3Fq%3Dlakers%2Bvs%2Bnuggets%2B2023%2Bbox%2Bscore%2Bplayoff%2Bgame%2B1%26gs_lcrp%3DEgZjaHJvbWUyBggAEEUYOTIHCAEQIRigATIHCAIQIRigATIHCAMQIRigATIHCAQQIRigATIHCAUQIRiPAjIHCAYQIRiPAtIBCDIxODlqMGo3qAIAsAIA%26gl%3Dus%26hl%3Den%26um%3D1%26ie%3DUTF-8%26ved%3D1t:200713%26ictx%3D111&opi=89978449&sa=U&ved=0ahUKEwia0dCI0u2JAxWGbPUHHbgfJ1IQiaAMCAooBQ&usg=AOvVaw2glitLeovkQCM1RT8e1uMG',\n",
       " 'https://www.nba.com/game/lal-vs-den-0042200311/box-score&sa=U&ved=2ahUKEwia0dCI0u2JAxWGbPUHHbgfJ1IQFnoECA4QAg&usg=AOvVaw2XOG8dpMA6nH2yQyU-B0JA',\n",
       " 'https://www.nba.com/game/den-vs-lal-0042200313/box-score&sa=U&ved=2ahUKEwia0dCI0u2JAxWGbPUHHbgfJ1IQFnoECAcQAg&usg=AOvVaw3OpRxuOAL1cmI4-EAh2nQN',\n",
       " 'https://www.espn.com/nba/game/_/gameId/401547684/nuggets-lakers&sa=U&ved=2ahUKEwia0dCI0u2JAxWGbPUHHbgfJ1IQFnoECA0QAg&usg=AOvVaw3nRRX6LCxGjsuPN0ClFqz9',\n",
       " 'https://www.espn.com/nba/boxscore/_/gameId/401547683&sa=U&ved=2ahUKEwia0dCI0u2JAxWGbPUHHbgfJ1IQFnoECAwQAg&usg=AOvVaw2kjaFA92q2sRfagzR3JZnS',\n",
       " 'https://www.statmuse.com/nba/ask/box-score-of-lakers-vs-nuggets-playoffs&sa=U&ved=2ahUKEwia0dCI0u2JAxWGbPUHHbgfJ1IQFnoECAoQAg&usg=AOvVaw3reZacAyB907df14UFqPSI',\n",
       " 'https://www.basketball-reference.com/playoffs/2023-nba-western-conference-finals-lakers-vs-nuggets.html&sa=U&ved=2ahUKEwia0dCI0u2JAxWGbPUHHbgfJ1IQFnoECAgQAg&usg=AOvVaw3_yy8XvGhhWItEX7QOz3B0',\n",
       " 'https://www.reddit.com/r/nba/comments/13lefjy/game_thread_los_angeles_lakers_01_denver_nuggets/&sa=U&ved=2ahUKEwia0dCI0u2JAxWGbPUHHbgfJ1IQFnoECAYQAg&usg=AOvVaw3vXeP0E483b1smoqcjc6Qe',\n",
       " 'https://www.reddit.com/r/denvernuggets/comments/13jkrmv/game_thread_western_finals_game_1_nuggets_vs/&sa=U&ved=2ahUKEwia0dCI0u2JAxWGbPUHHbgfJ1IQFnoECAQQAg&usg=AOvVaw0RHEABWzoPG3l4Kqn_D9vY',\n",
       " 'https://www.basketball-reference.com/boxscores/202301090DEN.html&sa=U&ved=2ahUKEwia0dCI0u2JAxWGbPUHHbgfJ1IQFnoECAkQAg&usg=AOvVaw15EBqiMKDgfjdyoIaf8XAe',\n",
       " 'https://www.statmuse.com/nba/ask/lakers-vs-nuggets-game-4-western-conference-finals-2023-lakers-box-score&sa=U&ved=2ahUKEwia0dCI0u2JAxWGbPUHHbgfJ1IQFnoECA8QAg&usg=AOvVaw3ZLjN5AVwZJARRIZg7AtAz',\n",
       " 'https://support.google.com/websearch%3Fp%3Dws_settings_location%26hl%3Den&opi=89978449&sa=U&ved=0ahUKEwia0dCI0u2JAxWGbPUHHbgfJ1IQty4Icg&usg=AOvVaw0S4vC6oHxDN7tRlJawnuTV',\n",
       " 'https://accounts.google.com/ServiceLogin%3Fcontinue%3Dhttps://www.google.com/search%253Fq%253Dlakers%252Bvs%252Bnuggets%252B2023%252Bbox%252Bscore%252Bplayoff%252Bgame%252B1%2526gs_lcrp%253DEgZjaHJvbWUyBggAEEUYOTIHCAEQIRigATIHCAIQIRigATIHCAMQIRigATIHCAQQIRigATIHCAUQIRiPAjIHCAYQIRiPAtIBCDIxODlqMGo3qAIAsAIA%2526sourceid%253Dchrome%2526ie%253DUTF-8%2526gl%253Dus%2526hl%253Den%26hl%3Den&opi=89978449&sa=U&ved=0ahUKEwia0dCI0u2JAxWGbPUHHbgfJ1IQxs8CCHM&usg=AOvVaw0cBVnM2XYmmyLvmkapX3sO',\n",
       " 'https://www.google.com/preferences?hl=en&fg=1&sa=X&ved=0ahUKEwia0dCI0u2JAxWGbPUHHbgfJ1IQ5fUCCHQ',\n",
       " 'https://policies.google.com/privacy?hl=en&fg=1',\n",
       " 'https://policies.google.com/terms?hl=en&fg=1',\n",
       " 'https://www.google.com/search?q%3Dlakers%2Bvs%2Bnuggets%2B2023%2Bbox%2Bscore%2Bplayoff%2Bgame%2B1%26gs_lcrp%3DEgZjaHJvbWUyBggAEEUYOTIHCAEQIRigATIHCAIQIRigATIHCAMQIRigATIHCAQQIRigATIHCAUQIRiPAjIHCAYQIRiPAtIBCDIxODlqMGo3qAIAsAIA%26sourceid%3Dchrome%26ie%3DUTF-8%26gl%3Dus%26hl%3Den%26pccc%3D1&sig=0_BLL67hNkkggcAfKPgWVtgUO0dzM%3D&cs=2&sa=X&ved=0ahUKEwia0dCI0u2JAxWGbPUHHbgfJ1IQjcAJCHU']"
      ]
     },
     "execution_count": 44,
     "metadata": {},
     "output_type": "execute_result"
    }
   ],
   "source": [
    "links = [get_potential_urls(link) for link in links]\n",
    "links"
   ]
  },
  {
   "cell_type": "code",
   "execution_count": 49,
   "metadata": {},
   "outputs": [
    {
     "name": "stdout",
     "output_type": "stream",
     "text": [
      "Based on the given URLs and their context, the elements most related to the query \"lakers vs nuggets 2023 box score playoff game 1\" are:\n",
      "\n",
      "1. 'https://www.nba.com/game/lal-vs-den-0042200311/box-score&sa=U&ved=2ahUKEwia0dCI0u2JAxWGbPUHHbgfJ1IQFnoECA4QAg&usg=AOvVaw2XOG8dpMA6nH2yQyU-B0JA'\n",
      "2. 'https://www.espn.com/nba/game/_/gameId/401547684/nuggets-lakers&sa=U&ved=2ahUKEwia0dCI0u2JAxWGbPUHHbgfJ1IQFnoECA0QAg&usg=AOvVaw3nRRX6LCxGjsuPN0ClFqz9'\n",
      "\n",
      "So, the array is:\n",
      "\n",
      "[ 'https://www.nba.com/game/lal-vs-den-0042200311/box-score&sa=U&ved=2ahUKEwia0dCI0u2JAxWGbPUHHbgfJ1IQFnoECA4QAg&usg=AOvVaw2XOG8dpMA6nH2yQyU-B0JA', 'https://www.espn.com/nba/game/_/gameId/401547684/nuggets-lakers&sa=U&ved=2ahUKEwia0dCI0u2JAxWGbPUHHbgfJ1IQFnoECA0QAg&usg=AOvVaw3nRRX6LCxGjsuPN0ClFqz9' ]\n"
     ]
    }
   ],
   "source": [
    "chat_completion = client.chat.completions.create(\n",
    "    messages=[\n",
    "        {\n",
    "            \"role\": \"system\",\n",
    "            \"content\": \"\"\"don't use your own knowledge, rely on my data\"\"\",\n",
    "        },\n",
    "        {\n",
    "            \"role\": \"user\",\n",
    "            \"content\": f\"\"\"based on {links}, which elements are most related to the query:{query}?\n",
    "            Return your answer as an array [url1, url2]\n",
    "            \"\"\",\n",
    "        }\n",
    "    ],\n",
    "    model=\"gpt-4o\",\n",
    ")\n",
    "res = chat_completion.choices[0].message.content\n",
    "print(res)"
   ]
  },
  {
   "cell_type": "markdown",
   "metadata": {},
   "source": [
    "takeaway, LLM not always return what you want, maybe a better idea is to test one by one"
   ]
  },
  {
   "cell_type": "code",
   "execution_count": 50,
   "metadata": {},
   "outputs": [],
   "source": [
    "def call_openai(client, messages, model=\"gpt-4o\"):\n",
    "    chat_completion = client.chat.completions.create(\n",
    "        messages=messages,\n",
    "        model=model,\n",
    "    )\n",
    "    return chat_completion.choices[0].message.content"
   ]
  },
  {
   "cell_type": "code",
   "execution_count": 57,
   "metadata": {},
   "outputs": [
    {
     "name": "stdout",
     "output_type": "stream",
     "text": [
      "Yes https://maps.google.com/maps%3Fq%3Dlakers%2Bvs%2Bnuggets%2B2023%2Bbox%2Bscore%2Bplayoff%2Bgame%2B1%26gs_lcrp%3DEgZjaHJvbWUyBggAEEUYOTIHCAEQIRigATIHCAIQIRigATIHCAMQIRigATIHCAQQIRigATIHCAUQIRiPAjIHCAYQIRiPAtIBCDIxODlqMGo3qAIAsAIA%26gl%3Dus%26hl%3Den%26um%3D1%26ie%3DUTF-8%26ved%3D1t:200713%26ictx%3D111&opi=89978449&sa=U&ved=0ahUKEwia0dCI0u2JAxWGbPUHHbgfJ1IQiaAMCAooBQ&usg=AOvVaw2glitLeovkQCM1RT8e1uMG\n",
      "Yes https://www.nba.com/game/lal-vs-den-0042200311/box-score&sa=U&ved=2ahUKEwia0dCI0u2JAxWGbPUHHbgfJ1IQFnoECA4QAg&usg=AOvVaw2XOG8dpMA6nH2yQyU-B0JA\n",
      "Yes https://www.nba.com/game/den-vs-lal-0042200313/box-score&sa=U&ved=2ahUKEwia0dCI0u2JAxWGbPUHHbgfJ1IQFnoECAcQAg&usg=AOvVaw3OpRxuOAL1cmI4-EAh2nQN\n",
      "Yes https://www.espn.com/nba/game/_/gameId/401547684/nuggets-lakers&sa=U&ved=2ahUKEwia0dCI0u2JAxWGbPUHHbgfJ1IQFnoECA0QAg&usg=AOvVaw3nRRX6LCxGjsuPN0ClFqz9\n",
      "Yes https://www.espn.com/nba/boxscore/_/gameId/401547683&sa=U&ved=2ahUKEwia0dCI0u2JAxWGbPUHHbgfJ1IQFnoECAwQAg&usg=AOvVaw2kjaFA92q2sRfagzR3JZnS\n",
      "Yes https://www.statmuse.com/nba/ask/box-score-of-lakers-vs-nuggets-playoffs&sa=U&ved=2ahUKEwia0dCI0u2JAxWGbPUHHbgfJ1IQFnoECAoQAg&usg=AOvVaw3reZacAyB907df14UFqPSI\n",
      "Yes https://www.basketball-reference.com/playoffs/2023-nba-western-conference-finals-lakers-vs-nuggets.html&sa=U&ved=2ahUKEwia0dCI0u2JAxWGbPUHHbgfJ1IQFnoECAgQAg&usg=AOvVaw3_yy8XvGhhWItEX7QOz3B0\n",
      "Yes https://www.reddit.com/r/nba/comments/13lefjy/game_thread_los_angeles_lakers_01_denver_nuggets/&sa=U&ved=2ahUKEwia0dCI0u2JAxWGbPUHHbgfJ1IQFnoECAYQAg&usg=AOvVaw3vXeP0E483b1smoqcjc6Qe\n",
      "Yes https://www.reddit.com/r/denvernuggets/comments/13jkrmv/game_thread_western_finals_game_1_nuggets_vs/&sa=U&ved=2ahUKEwia0dCI0u2JAxWGbPUHHbgfJ1IQFnoECAQQAg&usg=AOvVaw0RHEABWzoPG3l4Kqn_D9vY\n",
      "No https://www.basketball-reference.com/boxscores/202301090DEN.html&sa=U&ved=2ahUKEwia0dCI0u2JAxWGbPUHHbgfJ1IQFnoECAkQAg&usg=AOvVaw15EBqiMKDgfjdyoIaf8XAe\n",
      "Yes https://www.statmuse.com/nba/ask/lakers-vs-nuggets-game-4-western-conference-finals-2023-lakers-box-score&sa=U&ved=2ahUKEwia0dCI0u2JAxWGbPUHHbgfJ1IQFnoECA8QAg&usg=AOvVaw3ZLjN5AVwZJARRIZg7AtAz\n",
      "No https://support.google.com/websearch%3Fp%3Dws_settings_location%26hl%3Den&opi=89978449&sa=U&ved=0ahUKEwia0dCI0u2JAxWGbPUHHbgfJ1IQty4Icg&usg=AOvVaw0S4vC6oHxDN7tRlJawnuTV\n",
      "Yes https://accounts.google.com/ServiceLogin%3Fcontinue%3Dhttps://www.google.com/search%253Fq%253Dlakers%252Bvs%252Bnuggets%252B2023%252Bbox%252Bscore%252Bplayoff%252Bgame%252B1%2526gs_lcrp%253DEgZjaHJvbWUyBggAEEUYOTIHCAEQIRigATIHCAIQIRigATIHCAMQIRigATIHCAQQIRigATIHCAUQIRiPAjIHCAYQIRiPAtIBCDIxODlqMGo3qAIAsAIA%2526sourceid%253Dchrome%2526ie%253DUTF-8%2526gl%253Dus%2526hl%253Den%26hl%3Den&opi=89978449&sa=U&ved=0ahUKEwia0dCI0u2JAxWGbPUHHbgfJ1IQxs8CCHM&usg=AOvVaw0cBVnM2XYmmyLvmkapX3sO\n",
      "No https://www.google.com/preferences?hl=en&fg=1&sa=X&ved=0ahUKEwia0dCI0u2JAxWGbPUHHbgfJ1IQ5fUCCHQ\n",
      "No. https://policies.google.com/privacy?hl=en&fg=1\n",
      "No. https://policies.google.com/terms?hl=en&fg=1\n",
      "Yes. https://www.google.com/search?q%3Dlakers%2Bvs%2Bnuggets%2B2023%2Bbox%2Bscore%2Bplayoff%2Bgame%2B1%26gs_lcrp%3DEgZjaHJvbWUyBggAEEUYOTIHCAEQIRigATIHCAIQIRigATIHCAMQIRigATIHCAQQIRigATIHCAUQIRiPAjIHCAYQIRiPAtIBCDIxODlqMGo3qAIAsAIA%26sourceid%3Dchrome%26ie%3DUTF-8%26gl%3Dus%26hl%3Den%26pccc%3D1&sig=0_BLL67hNkkggcAfKPgWVtgUO0dzM%3D&cs=2&sa=X&ved=0ahUKEwia0dCI0u2JAxWGbPUHHbgfJ1IQjcAJCHU\n"
     ]
    }
   ],
   "source": [
    "potential_links = []\n",
    "for link in links:\n",
    "    messages = [\n",
    "        {\n",
    "            \"role\": \"system\",\n",
    "            \"content\": \"\"\"don't use your own knowledge, rely on my data\"\"\",\n",
    "        },\n",
    "        {\n",
    "            \"role\": \"user\",\n",
    "            \"content\": f\"\"\"based on {link}, do you think it is related to the query:{query}?\n",
    "                Return your answer yes or no\n",
    "                \"\"\",\n",
    "        }\n",
    "    ]\n",
    "    res = call_openai(client, messages)\n",
    "    print(res ,link)\n",
    "    if res.lower() in ['yes', 'yes.']:\n",
    "        potential_links.append(link)"
   ]
  },
  {
   "cell_type": "code",
   "execution_count": 65,
   "metadata": {},
   "outputs": [
    {
     "name": "stdout",
     "output_type": "stream",
     "text": [
      "An error occurred: 404 Client Error: Not Found for url: https://maps.google.com/maps%3Fq%3Dlakers%2Bvs%2Bnuggets%2B2023%2Bbox%2Bscore%2Bplayoff%2Bgame%2B1%26gs_lcrp%3DEgZjaHJvbWUyBggAEEUYOTIHCAEQIRigATIHCAIQIRigATIHCAMQIRigATIHCAQQIRigATIHCAUQIRiPAjIHCAYQIRiPAtIBCDIxODlqMGo3qAIAsAIA%26gl%3Dus%26hl%3Den%26um%3D1%26ie%3DUTF-8%26ved%3D1t:200713%26ictx%3D111&opi=89978449&sa=U&ved=0ahUKEwia0dCI0u2JAxWGbPUHHbgfJ1IQiaAMCAooBQ&usg=AOvVaw2glitLeovkQCM1RT8e1uMG\n",
      "An error occurred: 403 Client Error: Forbidden for url: https://www.espn.com/nba/game/_/gameId/401547684/nuggets-lakers&sa=U&ved=2ahUKEwia0dCI0u2JAxWGbPUHHbgfJ1IQFnoECA0QAg&usg=AOvVaw3nRRX6LCxGjsuPN0ClFqz9\n",
      "An error occurred: 403 Client Error: Forbidden for url: https://www.espn.com/nba/boxscore/_/gameId/401547683&sa=U&ved=2ahUKEwia0dCI0u2JAxWGbPUHHbgfJ1IQFnoECAwQAg&usg=AOvVaw2kjaFA92q2sRfagzR3JZnS\n",
      "An error occurred: 404 Client Error: Not Found for url: https://www.basketball-reference.com/playoffs/2023-nba-western-conference-finals-lakers-vs-nuggets.html&sa=U&ved=2ahUKEwia0dCI0u2JAxWGbPUHHbgfJ1IQFnoECAgQAg&usg=AOvVaw3_yy8XvGhhWItEX7QOz3B0\n",
      "An error occurred: 400 Client Error: Bad Request for url: https://www.reddit.com/r/nba/comments/13lefjy/game_thread_los_angeles_lakers_01_denver_nuggets/&sa=U&ved=2ahUKEwia0dCI0u2JAxWGbPUHHbgfJ1IQFnoECAYQAg&usg=AOvVaw3vXeP0E483b1smoqcjc6Qe/?rdt=45402\n",
      "An error occurred: 400 Client Error: Bad Request for url: https://www.reddit.com/r/denvernuggets/comments/13jkrmv/game_thread_western_finals_game_1_nuggets_vs/&sa=U&ved=2ahUKEwia0dCI0u2JAxWGbPUHHbgfJ1IQFnoECAQQAg&usg=AOvVaw0RHEABWzoPG3l4Kqn_D9vY/?rdt=63889\n",
      "An error occurred: 404 Client Error: Not Found for url: https://accounts.google.com/ServiceLogin%3Fcontinue%3Dhttps://www.google.com/search%253Fq%253Dlakers%252Bvs%252Bnuggets%252B2023%252Bbox%252Bscore%252Bplayoff%252Bgame%252B1%2526gs_lcrp%253DEgZjaHJvbWUyBggAEEUYOTIHCAEQIRigATIHCAIQIRigATIHCAMQIRigATIHCAQQIRigATIHCAUQIRiPAjIHCAYQIRiPAtIBCDIxODlqMGo3qAIAsAIA%2526sourceid%253Dchrome%2526ie%253DUTF-8%2526gl%253Dus%2526hl%253Den%26hl%3Den&opi=89978449&sa=U&ved=0ahUKEwia0dCI0u2JAxWGbPUHHbgfJ1IQxs8CCHM&usg=AOvVaw0cBVnM2XYmmyLvmkapX3sO\n"
     ]
    }
   ],
   "source": [
    "all_soups = []\n",
    "all_contents = []\n",
    "for link in potential_links:\n",
    "    soup, content = get_soup(link)\n",
    "    if soup:\n",
    "        all_soups.append(soup)\n",
    "    if content:\n",
    "        all_contents.append(content)"
   ]
  },
  {
   "cell_type": "code",
   "execution_count": 69,
   "metadata": {},
   "outputs": [
    {
     "name": "stdout",
     "output_type": "stream",
     "text": [
      "An error occurred: 403 Client Error: Forbidden for url: https://www.espn.com/nba/boxscore/_/gameId/401547683&sa=U&ved=2ahUKEwia0dCI0u2JAxWGbPUHHbgfJ1IQFnoECAwQAg&usg=AOvVaw2kjaFA92q2sRfagzR3JZnS\n"
     ]
    },
    {
     "data": {
      "text/plain": [
       "(None, None)"
      ]
     },
     "execution_count": 69,
     "metadata": {},
     "output_type": "execute_result"
    }
   ],
   "source": [
    "get_soup(\"https://www.espn.com/nba/boxscore/_/gameId/401547683&sa=U&ved=2ahUKEwia0dCI0u2JAxWGbPUHHbgfJ1IQFnoECAwQAg&usg=AOvVaw2kjaFA92q2sRfagzR3JZnS\")"
   ]
  },
  {
   "cell_type": "markdown",
   "metadata": {},
   "source": [
    "don't know why requests returns 403"
   ]
  },
  {
   "cell_type": "code",
   "execution_count": 75,
   "metadata": {},
   "outputs": [],
   "source": [
    "# Set up Selenium WebDriver\n",
    "driver = webdriver.Chrome(service=Service(ChromeDriverManager().install()))\n",
    "url = \"https://www.espn.com/nba/boxscore/_/gameId/401547683&sa=U&ved=2ahUKEwia0dCI0u2JAxWGbPUHHbgfJ1IQFnoECAwQAg&usg=AOvVaw2kjaFA92q2sRfagzR3JZnS\"\n",
    "driver.get(url)\n",
    "\n",
    "# Extract the page source and process it\n",
    "content = driver.page_source\n",
    "\n",
    "soup = BeautifulSoup(content, 'html.parser')\n",
    "content = soup.get_text(separator=\"\\n\").strip()\n",
    "content = clean_data(content)\n",
    "\n",
    "driver.quit()\n"
   ]
  },
  {
   "cell_type": "code",
   "execution_count": 77,
   "metadata": {},
   "outputs": [
    {
     "data": {
      "text/plain": [
       "\"Nuggets 119-108 Lakers (May 20, 2023) Box Score - ESPN Skip to main content Skip to navigation Top Events NFL NCAAF NBA NHL NCAAM NCAAW UFC Top Soccer PGA Tour LPGA Tour NBA G League Tennis (M) Tennis (W) F1 NASCAR PLL (Lacrosse) Women's NCAA Volleyball WNBA MLB NBA Nov 19 Nov 20 Nov 21 Nov 21 Gamecast Box Score NO 100 CLE 128 Final Gamecast Box Score CHI 106 MIL 122 Final Gamecast Box Score IND 113 HOU 130 Final Gamecast Box Score PHI 111 MEM 117 Final Gamecast Box Score POR 99 OKC 109 Final Gamecast Box Score NY 138 PHX 122 Final Gamecast Box Score ATL 97 GS 120 Final Gamecast Box Score ORL 93 LAC 104 Final Full Scoreboard   ESPN NFL NFL NBA NBA MLB MLB NCAAF NCAAF NHL NHL Soccer Soccer More Sports More Sports ESPN Plus ESPN BET Watch Watch Fantasy Fantasy NEW! Find where to watch all of your favorite sports! Search Profile Management West Finals - Game 3 DEN leads series 3-0 Nuggets 53-29 , 19-22 away 119 Winner Icon Denver Nuggets Final 1 2 3 4 T DEN 32 26 26 35 119 LAL 20 35 27 26 108 Lakers 43-39 , 23-18 home 108 Gamecast Recap Box Score Play-by-Play Team Stats Play Fantasy Basketball Denver Nuggets starters Aaron Gordon A. Gordon # 50 Michael Porter Jr. M. Porter Jr. # 1 Nikola Jokic N. Jokic # 15 Jamal Murray J. Murray # 27 Kentavious Caldwell-Pope K. Caldwell-Pope # 5 bench Jeff Green J. Green # 32 Bruce Brown B. Brown # 11 Christian Braun C. Braun # 0 Zeke Nnaji Z. Nnaji # 22 Peyton Watson P. Watson # 8 Vlatko Cancar V. Cancar # 31 DeAndre Jordan D. Jordan # 6 Thomas Bryant T. Bryant # 13 Ish Smith I. Smith # 14 Reggie Jackson R. Jackson # 7 team MIN FG 3PT FT OREB DREB REB AST STL BLK TO PF +/- PTS 32 2-5 0-1 3-4 1 2 3 4 0 1 1 0 +6 7 38 4-11 4-10 2-2 1 9 10 6 1 0 0 2 +9 14 38 9-19 2-5 4-7 1 5 6 8 1 0 2 4 +15 24 42 15-29 5-11 2-2 0 7 7 6 2 0 1 2 +18 37 34 6-10 4-7 1-2 0 3 3 0 2 0 1 2 -1 17 MIN FG 3PT FT OREB DREB REB AST STL BLK TO PF +/- PTS 23 2-3 1-2 0-0 0 4 4 1 0 0 0 3 +5 5 29 6-11 1-5 2-2 2 3 5 5 1 0 0 5 +6 15 3 0-0 0-0 0-0 0 1 1 0 0 0 0 1 -3 0 DNP-COACH'S DECISION DNP-COACH'S DECISION DNP-COACH'S DECISION DNP-COACH'S DECISION DNP-COACH'S DECISION DNP-COACH'S DECISION DNP-COACH'S DECISION 44-88 17-41 14-19 5 34 39 30 7 1 5 19 119 50.0% 41.5% 73.7% Los Angeles Lakers starters Anthony Davis A. Davis # 3 Jarred Vanderbilt J. Vanderbilt # 2 LeBron James L. James # 6 D'Angelo Russell D. Russell # 1 Austin Reaves A. Reaves # 15 bench Rui Hachimura R. Hachimura # 28 Troy Brown Jr. T. Brown Jr. # 7 Tristan Thompson T. Thompson # 9 Dennis Schroder D. Schroder # 17 Malik Beasley M. Beasley # 5 Shaquille Harrison S. Harrison # 0 Lonnie Walker IV L. Walker IV # 4 Max Christie M. Christie # 10 Wenyen Gabriel W. Gabriel # 35 team MIN FG 3PT FT OREB DREB REB AST STL BLK TO PF +/- PTS 42 11-18 0-0 6-8 5 13 18 1 0 2 1 3 -12 28 14 1-4 0-1 0-0 0 1 1 0 0 0 0 1 -10 2 43 8-19 3-9 4-7 0 7 7 12 0 0 2 2 -4 23 20 1-8 1-6 0-0 0 3 3 4 0 0 3 0 -12 3 40 7-10 3-5 6-6 2 5 7 5 1 0 4 2 -15 23 MIN FG 3PT FT OREB DREB REB AST STL BLK TO PF +/- PTS 34 5-12 1-3 2-2 1 5 6 1 1 0 1 2 -3 13 1 1-2 0-1 0-0 1 0 1 0 0 0 0 0 +2 2 1 0-0 0-0 0-0 0 0 0 0 0 0 0 0 +2 0 25 2-5 0-2 1-2 0 0 0 1 1 0 1 6 -6 5 1 0-1 0-1 0-0 0 0 0 0 0 0 0 0 +2 0 1 0-0 0-0 0-0 0 0 0 1 0 0 0 0 +2 0 19 2-5 2-4 3-4 1 0 1 2 0 0 0 2 -3 9 1 0-0 0-0 0-0 1 0 1 0 0 0 0 0 +2 0 DNP-COACH'S DECISION 38-84 10-32 22-29 11 34 45 27 3 2 12 18 108 45.2% 31.3% 75.9% +/- denotes team's net points while the player is on the court Regular Season Series Playoff Series DEN leads 3-0 Lakers 126 Nuggets 132 Game 1 5/17 Final Lakers 103 Nuggets 108 Game 2 5/19 Final Nuggets 119 Lakers 108 Game 3 5/21 Final Nuggets 113 Lakers 111 Game 4 5/23 Final Game Information crypto.com Arena 8:30 AM , May 21, 2023 Coverage : ABC Los Angeles , CA Line : LAL -5.5 Over/Under : 223.5 Attendance : 18,997 Referees : Bill Kennedy Mark Lindsay Scott Foster 2024-25 Northwest Standings Team W L PCT GB STRK Oklahoma City 12 4 .750 - W1 Denver 8 5 .615 2.5 W1 Minnesota 8 6 .571 3 W2 Portland 6 9 .400 5.5 L1 Utah 3 11 .214 8 L3 Full Standings 2024-25 Pacific Standings Team W L PCT GB STRK Golden State 11 3 .786 - W1 LA Lakers 10 4 .714 1 W6 Phoenix 9 7 .563 3 L5 LA Clippers 9 7 .563 3 W3 Sacramento 8 7 .533 3.5 L1 Full Standings NBA News Stat Stories: Wednesday's standout NBA fantasy performances Check out some of the top performers in fantasy NBA from Wednesday, including Giannis Antetokounmpo and Jalen Williams. NBA betting: Which favorites, longshots should you bet on for Most Improved Player? Eric Moody updates the NBA's Most Improved Player race and points out which players are the best betting values and ones to watch. How Chris Paul and Victor Wembanyama are evolving together The Hall of Fame point guard joined the sophomore phenom on the San Antonio Spurs this season.  All NBA News Terms of Use Privacy Policy Your US State Privacy Rights Children's Online Privacy Policy Interest-Based Ads About Nielsen Measurement Do Not Sell or Share My Personal Information Contact Us Disney Ad Sales Site Work for ESPN Corrections ESPN BET is owned and operated by PENN Entertainment, Inc. and its subsidiaries ('PENN'). ESPN BET is available in states where PENN is licensed to offer sports wagering. Must be 21+ to wager. If you or someone you know has a gambling problem and wants help, call 1-800-GAMBLER. Copyright:   2024 ESPN Enterprises, Inc. All rights reserved.\""
      ]
     },
     "execution_count": 77,
     "metadata": {},
     "output_type": "execute_result"
    }
   ],
   "source": [
    "content"
   ]
  },
  {
   "cell_type": "code",
   "execution_count": null,
   "metadata": {},
   "outputs": [
    {
     "data": {
      "text/plain": [
       "'In Game 1 of the 2023 playoff series between the Denver Nuggets and the Los Angeles Lakers, the Nuggets won with a score of 119 to 108. The score by quarters for the Nuggets was 32, 26, 26, and 35, and for the Lakers, it was 20, 35, 27, and 26. Key players for the Denver Nuggets included Nikola Jokic with a significant contribution of 24 points, Jamal Murray with 37 points, and Kentavious Caldwell-Pope scoring 17 points. For the Los Angeles Lakers, key performances came from Anthony Davis with 28 points, LeBron James with 23 points, and Austin Reaves also contributing 23 points. The game was held at crypto.com Arena in Los Angeles, CA.'"
      ]
     },
     "execution_count": 81,
     "metadata": {},
     "output_type": "execute_result"
    }
   ],
   "source": [
    "chat_completion = client.chat.completions.create(\n",
    "    messages=[\n",
    "        {\n",
    "            \"role\": \"system\",\n",
    "            \"content\": \"don't use your own knowledge. use the data I gave you\",\n",
    "        },\n",
    "        {\n",
    "            \"role\": \"user\",\n",
    "            \"content\": f\"\"\"answer the question: {query}.\n",
    "                            from the data {content}, \"\"\"\n",
    "        }\n",
    "    ],\n",
    "    model=\"gpt-4o\",\n",
    ")\n",
    "response1 = chat_completion.choices[0].message.content\n",
    "response1"
   ]
  },
  {
   "cell_type": "code",
   "execution_count": 82,
   "metadata": {},
   "outputs": [
    {
     "data": {
      "text/plain": [
       "\"Here is the box score for the Denver Nuggets vs. Los Angeles Lakers Game 3 of the playoffs on May 20, 2023:\\n\\n**Team Score:**\\n- Denver Nuggets: 119\\n- Los Angeles Lakers: 108\\n\\n**Quarterly Breakdown:**\\n- Denver Nuggets: 32 (1st), 26 (2nd), 26 (3rd), 35 (4th)\\n- Los Angeles Lakers: 20 (1st), 35 (2nd), 27 (3rd), 26 (4th)\\n\\n**Denver Nuggets Stats:**\\n- **Starters:**\\n  - Aaron Gordon: 32 MIN, 2-5 FG, 0-1 3PT, 3-4 FT, 3 REB, 4 AST, 7 PTS\\n  - Michael Porter Jr.: 38 MIN, 4-11 FG, 4-10 3PT, 2-2 FT, 10 REB, 6 AST, 14 PTS\\n  - Nikola Jokic: 38 MIN, 9-19 FG, 2-5 3PT, 4-7 FT, 6 REB, 8 AST, 24 PTS\\n  - Jamal Murray: 42 MIN, 15-29 FG, 5-11 3PT, 2-2 FT, 7 REB, 6 AST, 37 PTS\\n  - Kentavious Caldwell-Pope: 34 MIN, 6-10 FG, 4-7 3PT, 1-2 FT, 3 REB, 17 PTS\\n- **Bench:**\\n  - Jeff Green: 23 MIN, 2-3 FG, 1-2 3PT, 4 REB, 5 PTS\\n  - Bruce Brown: 29 MIN, 6-11 FG, 1-5 3PT, 2-2 FT, 5 REB, 5 AST, 15 PTS\\n  - Christian Braun: 3 MIN, 1 REB, 0 PTS\\n  - Others: DNP-COACH'S DECISION\\n\\n**Los Angeles Lakers Stats:**\\n- **Starters:**\\n  - Anthony Davis: 42 MIN, 11-18 FG, 6-8 FT, 18 REB, 28 PTS\\n  - Jarred Vanderbilt: 14 MIN, 1-4 FG, 0-1 3PT, 1 REB, 2 PTS\\n  - LeBron James: 43 MIN, 8-19 FG, 3-9 3PT, 4-7 FT, 7 REB, 12 AST, 23 PTS\\n  - D'Angelo Russell: 20 MIN, 1-8 FG, 1-6 3PT, 3 REB, 3 PTS\\n  - Austin Reaves: 40 MIN, 7-10 FG, 3-5 3PT, 6-6 FT, 7 REB, 5 AST, 23 PTS\\n- **Bench:**\\n  - Rui Hachimura: 34 MIN, 5-12 FG, 1-3 3PT, 6 REB, 13 PTS\\n  - Troy Brown Jr.: 1 MIN, 1-2 FG, 2 PTS\\n  - Tristan Thompson: 1 MIN, 0 PTS\\n  - Dennis Schroder: 25 MIN, 2-5 FG, 5 PTS\\n  - Others: DNP-COACH'S DECISION\\n\\n**Team Totals:**\\n- **Denver Nuggets: 44-88 FG, 17-41 3PT, 14-19 FT, 39 REB, 30 AST, 7 STL, 5 TO, 19 PF**\\n- **Los Angeles Lakers: 38-84 FG, 10-32 3PT, 22-29 FT, 45 REB, 27 AST, 3 STL, 12 TO, 18 PF**\""
      ]
     },
     "execution_count": 82,
     "metadata": {},
     "output_type": "execute_result"
    }
   ],
   "source": [
    "chat_completion = client.chat.completions.create(\n",
    "    messages=[\n",
    "        {\n",
    "            \"role\": \"system\",\n",
    "            \"content\": \"don't use your own knowledge. use the data I gave you\",\n",
    "        },\n",
    "        {\n",
    "            \"role\": \"user\",\n",
    "            \"content\": f\"\"\"can you get the box score {query}.\n",
    "                            from the data {content}, \"\"\"\n",
    "        }\n",
    "    ],\n",
    "    model=\"gpt-4o\",\n",
    ")\n",
    "response1 = chat_completion.choices[0].message.content\n",
    "response1"
   ]
  },
  {
   "cell_type": "code",
   "execution_count": null,
   "metadata": {},
   "outputs": [],
   "source": []
  }
 ],
 "metadata": {
  "kernelspec": {
   "display_name": "Python 3",
   "language": "python",
   "name": "python3"
  },
  "language_info": {
   "codemirror_mode": {
    "name": "ipython",
    "version": 3
   },
   "file_extension": ".py",
   "mimetype": "text/x-python",
   "name": "python",
   "nbconvert_exporter": "python",
   "pygments_lexer": "ipython3",
   "version": "3.12.7"
  }
 },
 "nbformat": 4,
 "nbformat_minor": 2
}
